{
 "cells": [
  {
   "cell_type": "markdown",
   "metadata": {},
   "source": [
    "## Introduction\n",
    "### Author - Harshwardhan Fartale\n",
    "We typically work with data in two-dimensional tables known as data frames, with rows and columns. But each\n",
    "column in a data frame is built from a series, a one-dimensional data structure\n",
    "\n",
    "This means that you can think of a data frame as a collection of series.\n",
    "\n",
    "\n",
    "> Definition - Series is a one-dimensional labeled array for homogeneous data."
   ]
  },
  {
   "cell_type": "code",
   "execution_count": 1,
   "metadata": {},
   "outputs": [],
   "source": [
    "import pandas as pd"
   ]
  },
  {
   "cell_type": "code",
   "execution_count": null,
   "metadata": {},
   "outputs": [],
   "source": [
    "#  Let’s create a Series object with data from a Python list.\n",
    "ice_cream_flavors = [\n",
    "    \"Chocolate\",\n",
    "    \"Vanilla\",\n",
    "    \"Strawberry\",\n",
    "    \"Butterscotch\",\n",
    " ]\n",
    "\n",
    "myseries=pd.Series(ice_cream_flavors)\n",
    "\n",
    "## Note\n",
    "# The two lines below are equivalent\n",
    "#  pd.Series(ice_cream_flavors) #Positional Argument\n",
    "#  pd.Series(data = ice_cream_flavors) #keyword Argument"
   ]
  },
  {
   "cell_type": "markdown",
   "metadata": {},
   "source": [
    "> Keyword arguments are advantageous because they provide context for what each\n",
    " constructor argument represents. The second line in the example better communi\n",
    "cates that ice_cream_flavors represents the data for the Series."
   ]
  },
  {
   "cell_type": "markdown",
   "metadata": {},
   "source": [
    "> Pandas Series dataframe comes with a load of parameter values\n",
    "\n",
    "To get complete information, on a notebook type \n",
    "```pd.Series?```"
   ]
  },
  {
   "cell_type": "code",
   "execution_count": 9,
   "metadata": {},
   "outputs": [
    {
     "data": {
      "text/plain": [
       "0       Chocolate\n",
       "1         Vanilla\n",
       "2      Strawberry\n",
       "3    Butterscotch\n",
       "dtype: object"
      ]
     },
     "execution_count": 9,
     "metadata": {},
     "output_type": "execute_result"
    }
   ],
   "source": [
    "myseries\n"
   ]
  },
  {
   "cell_type": "markdown",
   "metadata": {},
   "source": [
    "> In graphical spreadsheet applications, the first row of data starts counting at 1—an important difference between pandas and Excel"
   ]
  },
  {
   "cell_type": "markdown",
   "metadata": {},
   "source": [
    " ###  Customizing the Series index\n",
    " \n",
    " In addition to an index position, we can assign each Series value an index label.\n",
    " Index labels can be of any immutable data type: strings, tuples, datetimes, and more.\n",
    " This flexibility makes a Series powerful: we can reference a value by its order or by a\n",
    " key/label. In a sense, each value has two identifiers.\n"
   ]
  },
  {
   "cell_type": "code",
   "execution_count": 11,
   "metadata": {},
   "outputs": [
    {
     "data": {
      "text/plain": [
       "Monday        Chocolate\n",
       "Wednesday       Vanilla\n",
       "Friday       Strawberry\n",
       "Saturday     Rum Raisin\n",
       "dtype: object"
      ]
     },
     "execution_count": 11,
     "metadata": {},
     "output_type": "execute_result"
    }
   ],
   "source": [
    "ice_cream_flavors = [\n",
    "    \"Chocolate\",\n",
    "    \"Vanilla\",\n",
    "    \"Strawberry\",\n",
    "    \"Rum Raisin\",\n",
    " ]\n",
    "days_of_week = (\"Monday\", \"Wednesday\", \"Friday\", \"Saturday\")\n",
    "\n",
    "newseries=pd.Series(ice_cream_flavors,days_of_week)\n",
    "\n",
    "newseries\n",
    "\n",
    "# The two lines below are equivalent\n",
    "# pd.Series(ice_cream_flavors, days_of_week)\n",
    "# pd.Series(data = ice_cream_flavors, index = days_of_week)"
   ]
  },
  {
   "cell_type": "markdown",
   "metadata": {},
   "source": [
    ">  The index permits duplicates, a detail that distinguishes a Series from a Python dictionary.\n",
    "\n",
    "Showcase - Replace Saturday with Wednesday in the above example\n",
    "\n",
    "ProTip - Although pandas permits duplicates, it is ideal to avoid them whenever possible,\n",
    " because a unique index allows the library to locate index labels more quickly."
   ]
  },
  {
   "cell_type": "code",
   "execution_count": 12,
   "metadata": {},
   "outputs": [
    {
     "data": {
      "text/plain": [
       "0     True\n",
       "1    False\n",
       "2    False\n",
       "dtype: bool"
      ]
     },
     "execution_count": 12,
     "metadata": {},
     "output_type": "execute_result"
    }
   ],
   "source": [
    "bunch_of_bools = [True, False, False]\n",
    "pd.Series(bunch_of_bools)"
   ]
  },
  {
   "cell_type": "code",
   "execution_count": 13,
   "metadata": {},
   "outputs": [
    {
     "data": {
      "text/plain": [
       "Open     985.32\n",
       "Close    950.44\n",
       "dtype: float64"
      ]
     },
     "execution_count": 13,
     "metadata": {},
     "output_type": "execute_result"
    }
   ],
   "source": [
    "stock_prices = [985.32, 950.44]\n",
    "time_of_day = [\"Open\", \"Close\"]\n",
    "pd.Series(data = stock_prices, index = time_of_day)"
   ]
  },
  {
   "cell_type": "code",
   "execution_count": 14,
   "metadata": {},
   "outputs": [
    {
     "data": {
      "text/plain": [
       "0     4\n",
       "1     8\n",
       "2    15\n",
       "3    16\n",
       "4    23\n",
       "5    42\n",
       "dtype: int64"
      ]
     },
     "execution_count": 14,
     "metadata": {},
     "output_type": "execute_result"
    }
   ],
   "source": [
    "lucky_numbers = [4, 8, 15, 16, 23, 42]\n",
    "pd.Series(lucky_numbers)"
   ]
  },
  {
   "cell_type": "markdown",
   "metadata": {},
   "source": [
    "> The float64 and int64 data types indicate that each floating-point/integer value in\n",
    " the Series occupies 64 bits (8 bytes) of your computer’s RAM. Bits and bytes are stor\n",
    "age units for memory.\n",
    "\n",
    "\n",
    "Pandas does its best to infer an appropriate data type for the Series from the\n",
    "data parameter’s values. We can force coercion to a different type via the constructor’s dtype parameter. The next example passes an integer list to the constructor but\n",
    "asks for a floating-point Series:"
   ]
  },
  {
   "cell_type": "code",
   "execution_count": 15,
   "metadata": {},
   "outputs": [
    {
     "data": {
      "text/plain": [
       "0     4.0\n",
       "1     8.0\n",
       "2    15.0\n",
       "3    16.0\n",
       "4    23.0\n",
       "5    42.0\n",
       "dtype: float64"
      ]
     },
     "execution_count": 15,
     "metadata": {},
     "output_type": "execute_result"
    }
   ],
   "source": [
    "lucky_numbers = [4, 8, 15, 16, 23, 42]\n",
    "pd.Series(lucky_numbers, dtype = \"float\")"
   ]
  },
  {
   "cell_type": "markdown",
   "metadata": {},
   "source": [
    "### Creating a Series with missing values\n",
    "In the real world, data is a lot messier. Perhaps the most frequent problem that analysts encounter is missing values.\n",
    "When pandas sees a missing value during a file import, the library substitutes NumPy’s nan object. The acronym nan is short for not a number and is a catch-all term for an undefined value. In other words, nan is a placeholder object that represents nullness or absence."
   ]
  },
  {
   "cell_type": "code",
   "execution_count": 17,
   "metadata": {},
   "outputs": [
    {
     "data": {
      "text/plain": [
       "0    94.0\n",
       "1    88.0\n",
       "2     NaN\n",
       "3    91.0\n",
       "dtype: float64"
      ]
     },
     "execution_count": 17,
     "metadata": {},
     "output_type": "execute_result"
    }
   ],
   "source": [
    "import numpy as np\n",
    "temperatures = [94, 88, np.nan, 91]\n",
    "pd.Series(data = temperatures)"
   ]
  },
  {
   "cell_type": "markdown",
   "metadata": {},
   "source": [
    ">  Pandas automatically converts numeric values from integers to floating-points when it spots a nan value; this internal technical requirement allows the library to store numeric values and missing values in the same homogeneous Series"
   ]
  },
  {
   "cell_type": "markdown",
   "metadata": {},
   "source": [
    "### Series with Python objects\n",
    "The Series constructor’s data parameter accepts various inputs, including native Python data structures and objects from other libraries."
   ]
  },
  {
   "cell_type": "code",
   "execution_count": 24,
   "metadata": {},
   "outputs": [
    {
     "name": "stdout",
     "output_type": "stream",
     "text": [
      "Cereal              125\n",
      "Chocolate Bar       406\n",
      "Ice Cream Sundae    342\n",
      "dtype: int64\n",
      "0      Red\n",
      "1    Green\n",
      "2     Blue\n",
      "dtype: object\n"
     ]
    }
   ],
   "source": [
    "#Series from a dictionary\n",
    "calorie_info = {\n",
    "     \"Cereal\": 125,\n",
    "     \"Chocolate Bar\": 406,\n",
    "     \"Ice Cream Sundae\": 342,\n",
    " }\n",
    "diet = pd.Series(calorie_info)\n",
    "print(diet)\n",
    " \n",
    " \n",
    "#Series from a tuple\n",
    "color_info=pd.Series(data = (\"Red\", \"Green\", \"Blue\"))\n",
    "print(color_info)\n",
    "\n",
    "#Series from a set ?? \n",
    "# my_set = {\"Ricky\", \"Bobby\"}\n",
    "# pd.Series(my_set)\n",
    " \n"
   ]
  },
  {
   "cell_type": "markdown",
   "metadata": {},
   "source": [
    "### Question - Is Series from a set possible ? \n",
    "\n",
    "<details>\n",
    "<summary>Click for Answer</summary>\n",
    " If we pass a set to the Series constructor, pandas raises a TypeError exception. A\n",
    " set has neither the concept of order (such as a list) nor the concept of association\n",
    " (such as a dictionary). Thus, the library cannot assume an order in which to store the\n",
    " set’s values. \n",
    " If your program involves a set, transform it to an ordered data structure before pass\n",
    "ing it to the Series constructor.\n",
    "</details>"
   ]
  },
  {
   "cell_type": "code",
   "execution_count": null,
   "metadata": {},
   "outputs": [],
   "source": [
    "# my_set = {\"Ricky\", \"Bobby\"}\n",
    "# pd.Series(list(my_set))"
   ]
  },
  {
   "cell_type": "code",
   "execution_count": 28,
   "metadata": {},
   "outputs": [
    {
     "name": "stdout",
     "output_type": "stream",
     "text": [
      "[13 43 40 10 99 53 74 28 72 48]\n"
     ]
    },
    {
     "data": {
      "text/plain": [
       "0    13\n",
       "1    43\n",
       "2    40\n",
       "3    10\n",
       "4    99\n",
       "5    53\n",
       "6    74\n",
       "7    28\n",
       "8    72\n",
       "9    48\n",
       "dtype: int32"
      ]
     },
     "execution_count": 28,
     "metadata": {},
     "output_type": "execute_result"
    }
   ],
   "source": [
    "#  The Series constructor’s data parameter also accepts a NumPy ndarray object.Many data science libraries use NumPy arrays, which are common storage formats for moving data around\n",
    "random_data = np.random.randint(1, 101, 10)\n",
    "print(random_data)\n",
    "pd.Series(random_data)"
   ]
  },
  {
   "cell_type": "markdown",
   "metadata": {},
   "source": [
    "### Quickie on Attributes\n",
    "An attribute is a piece of internal data belonging to an object, a characteristic or detail that exposes information about the object.We access an object’s attributes with dot syntax."
   ]
  },
  {
   "cell_type": "code",
   "execution_count": 22,
   "metadata": {},
   "outputs": [
    {
     "name": "stdout",
     "output_type": "stream",
     "text": [
      "2001-04-18\n"
     ]
    },
    {
     "data": {
      "text/plain": [
       "2"
      ]
     },
     "execution_count": 22,
     "metadata": {},
     "output_type": "execute_result"
    }
   ],
   "source": [
    "import datetime as dt\n",
    "my_birthday=dt.date(2001,4,18)\n",
    "print(my_birthday)\n",
    "print(my_birthday.month)\n",
    "print(my_birthday.year)\n",
    "print(my_birthday.weekday())"
   ]
  },
  {
   "cell_type": "markdown",
   "metadata": {},
   "source": [
    "## Series attributes\n",
    "A Series is composed of several smaller objects. Think of these objects as being puzzle pieces that join to make a greater whole\n",
    "\n",
    "## IMP Point\n",
    "This Series uses the NumPy library’s ndarray object to store the calorie counts and the pandas library’s Index object to store the food names in the index. We can access these nested objects through Series attributes. The values attribute, for example,exposes the ndarray object that stores the values:\n",
    "\n",
    "Pandas delegates the responsibility of storing Series values to an object from a different library. That’s why NumPy is a dependency of pandas. The ndarray object optimizes for speed and efficiency by relying on the lower-level C programming language for many of its calculations. In many ways,the Series is a wrapper—an additional layer of functionality around a core NumPylibrary object."
   ]
  },
  {
   "cell_type": "code",
   "execution_count": 35,
   "metadata": {},
   "outputs": [
    {
     "name": "stdout",
     "output_type": "stream",
     "text": [
      "<class 'numpy.ndarray'>\n",
      "Index(['Cereal', 'Chocolate Bar', 'Ice Cream Sundae'], dtype='object')\n"
     ]
    }
   ],
   "source": [
    "diet.values\n",
    "\n",
    "#If you are ever uncertain, use pandas built in type function to check types\n",
    "print(type(diet.values))\n",
    "\n",
    "\n",
    "#Pandas has its own objects, of course. The index attribute, for example, returns the Index object that stores the Series labels:\n",
    "print(diet.index)\n",
    "\n"
   ]
  },
  {
   "cell_type": "code",
   "execution_count": null,
   "metadata": {},
   "outputs": [],
   "source": [
    "## Some common Attributes\n",
    "# dtype, for example, returns the data type of the Series’ values:\n",
    "print(diet.dtype)\n",
    "\n",
    "#  The size attribute returns the number of values in the Series:\n",
    "print(diet.size)\n",
    "\n",
    "#  The complementary shape attribute returns a tuple with the dimensions of a pandas data structure. For the one-dimensional Series, the tuple’s only value will be the Series’ size\n",
    "print(diet.shape)\n",
    "\n",
    "\n",
    "#is_unique attribute returns True if all Series values are unique\n",
    "print(diet.is_unique)\n",
    "\n",
    "\n",
    "# The is_monotonic attribute returns True if each Series value is greater than the previous one\n",
    "print(pd.Series(data = [1, 3, 6]).is_monotonic)\n",
    " "
   ]
  },
  {
   "cell_type": "markdown",
   "metadata": {},
   "source": [
    "## Attributes and Methods\n",
    "A Python object has both attributes and methods. An attribute is a piece of data belonging to an object—a characteristic or detail that the data structure can reveal about itself\n",
    "\n",
    "we accessed Series attributes such as size, shape, values, and index.\n",
    "By comparison, a method is a function that belongs to an object—an action or command that we ask the object to perform. Methods typically involve some analysis, calculation, or manipulation of the object’s attributes. Attributes define an object’s state,and methods define an object’s behavior."
   ]
  },
  {
   "cell_type": "code",
   "execution_count": null,
   "metadata": {},
   "outputs": [],
   "source": [
    "values = range(0, 500, 5)\n",
    "nums = pd.Series(data = values)"
   ]
  },
  {
   "cell_type": "code",
   "execution_count": null,
   "metadata": {},
   "outputs": [],
   "source": [
    "#head - Display First 5 (default) values  \n",
    "print(nums.head())\n",
    "print(nums.head(10))\n",
    "\n",
    "#tail - Display Last 5(default) values\n",
    "print(nums.tail())\n",
    "print(nums.tail(10))\n"
   ]
  },
  {
   "cell_type": "code",
   "execution_count": null,
   "metadata": {},
   "outputs": [],
   "source": [
    "numbers = pd.Series([1, 2, 3, np.nan, 4, 5])\n",
    "numbers\n",
    "\n",
    "\n",
    "print(numbers.count())\n",
    "\n",
    "print(numbers.sum())\n",
    "\n",
    "#Most mathematical methods ignore missing values by default. We can pass an argu ment of False to the skipna parameter to force the inclusion of missing values.\n",
    "print(numbers.sum(skipna=False)) #Forcefully include nan\n",
    "\n",
    "print(numbers.product())\n",
    "\n",
    "print(numbers.product(skipna=False))\n",
    "\n",
    "\n",
    "\n",
    "#The sum method’s min_count parameter sets the minimum number of valid values a Series must hold for pandas to calculate its sum.\n",
    "print(numbers.sum(min_count=3))"
   ]
  },
  {
   "cell_type": "markdown",
   "metadata": {},
   "source": [
    "### Cum-sum and Percentage Change\n",
    "\n",
    "\n",
    "#### Cum-sum\n",
    "The cumsum (cumulative sum) method returns a new Series with a rolling sum of\n",
    "values. Each index position holds the sum of values up to and including the value at\n",
    "that index.A cumulative sum helps determine which values contribute most to the\n",
    "total:\n",
    "\n",
    "\n",
    "\n",
    "#### Percentage Change\n",
    "The pct_change (percent change) method returns the percentage difference from one Series value to the next. At each index, pandas adds the last index’s value and the current index’s value and then divides the sum by the last index’s value. Pandas can calculate a percentage difference only if both indexes have valid values. The pct_change method defaults to a ```forward-fill``` strategy for missing values. With this strategy, pandas replaces a nan with the last valid value it encountered\n",
    "\n",
    "An alternative strategy for dealing with missing values is a ```backfill``` solution. With this\n",
    "option, pandas replaces a nan value with the next valid observation.\n"
   ]
  },
  {
   "cell_type": "code",
   "execution_count": null,
   "metadata": {},
   "outputs": [],
   "source": [
    "print(numbers.cumsum())\n",
    "\n",
    "\n",
    "print(numbers.pct_change())"
   ]
  },
  {
   "cell_type": "code",
   "execution_count": null,
   "metadata": {},
   "outputs": [],
   "source": [
    "## Standard Statistical methods\n",
    "print(numbers.mean())\n",
    "\n",
    "print(numbers.median())\n",
    "\n",
    "print(numbers.std())\n",
    "\n",
    "print(numbers.max())\n",
    "\n",
    "print(numbers.min())\n",
    "\n",
    "\n",
    "# If you’re looking for a single method to summarize a Series effectively, the powerful describe method does the trick\n",
    "print(numbers.describe())"
   ]
  },
  {
   "cell_type": "markdown",
   "metadata": {},
   "source": [
    "> Pandas sorts a string Series alphabetically. The “smallest” string is the one closest to the start of the alphabet, and the “largest” string is the one closest to the end of the alphabet. Here’s a simple example with a small Series:"
   ]
  },
  {
   "cell_type": "code",
   "execution_count": 42,
   "metadata": {},
   "outputs": [
    {
     "name": "stdout",
     "output_type": "stream",
     "text": [
      "zebra\n",
      "aardvark\n"
     ]
    }
   ],
   "source": [
    "animals = pd.Series([\"koala\", \"aardvark\", \"zebra\"])\n",
    "animals\n",
    "\n",
    "\n",
    "print(animals.max())\n",
    "\n",
    "print(animals.min())"
   ]
  },
  {
   "cell_type": "code",
   "execution_count": 43,
   "metadata": {},
   "outputs": [
    {
     "name": "stdout",
     "output_type": "stream",
     "text": [
      "['Hemingway' 'Orwell' 'Dostoevsky' 'Fitzgerald']\n",
      "4\n"
     ]
    }
   ],
   "source": [
    "# complementary nunique method returns the number of unique values in the Series\n",
    "authors = pd.Series(\n",
    "     [\"Hemingway\", \"Orwell\", \"Dostoevsky\", \"Fitzgerald\", \"Orwell\"]\n",
    " )\n",
    "\n",
    "print(authors.unique())\n",
    "\n",
    "print(authors.nunique())"
   ]
  },
  {
   "cell_type": "markdown",
   "metadata": {},
   "source": [
    "### Arithmatic Operations on Series\n",
    "Pandas gives us additional ways to perform arithmetic calculations with a Series\n",
    "\n",
    "1. (+) for addition\n",
    "2. (-) for subtraction\n",
    "3. (*) for multiplication\n",
    "4. (/) for division\n",
    "\n",
    "\n",
    "The syntax is intuitive: treat the Series as a regular operand on one side of a mathematical operator. Place the complementary value on the other side of the operator."
   ]
  },
  {
   "cell_type": "code",
   "execution_count": null,
   "metadata": {},
   "outputs": [],
   "source": [
    "s1 = pd.Series(data = [5, np.nan, 15], index = [\"A\", \"B\", \"C\"])\n",
    "\n",
    "print(s1 + 3)"
   ]
  },
  {
   "cell_type": "markdown",
   "metadata": {},
   "source": [
    "###  How can we add an integer to a data structure?\n",
    "<details>\n",
    "<summary>Click for Answer</summary>\n",
    "The types are seemingly incompatible. Behind the scenes, pandas\n",
    "is smart enough to parse our syntax and understand that we’d like to add an integer to every value in the Series, not to the Series object itself.\n",
    "</details>\n",
    "\n"
   ]
  },
  {
   "cell_type": "code",
   "execution_count": null,
   "metadata": {},
   "outputs": [],
   "source": [
    "#Method based approach\n",
    "print(s1.add(3))\n",
    "print(s1 - 5)\n",
    "print(s1.sub(5))\n",
    "print(s1.subtract(5))\n",
    "\n",
    "\n",
    "print(s1*2)\n",
    "print(s1.mul(2))\n",
    "print(s1.multiply(2))\n",
    "\n",
    "\n",
    "print(s1 / 2)\n",
    "print(s1.div(2))\n",
    "print(s1.divide(2))\n",
    "\n",
    "#modulo operator returns the remaineder of a division \n",
    "print(s1 % 3)\n",
    "print(s1.mod(3))\n"
   ]
  },
  {
   "cell_type": "markdown",
   "metadata": {},
   "source": [
    "### Broadcasting\n",
    "Recall that pandas stores its Series values in a NumPy ndarray under the hood. When we use syntax such as s1 + 3 or s1 - 5, pandas delegates the mathematical calculations to NumPy.\n",
    "\n",
    "The NumPy documentation uses the term broadcasting to describe the derivation of one array of values from another. Without diving too much into the technical details (you don’t need to understand NumPy’s complexities to work effectively with pandas),the term broadcasting comes from a radio broadcast tower, which transmits the same signal to all recipients listening in. Syntax like s1 + 3 means “Apply the same operation (add 3) to each value in the Series.” Each Series value gets the same message, much as every person listening to the same radio station at the same time hears the\n",
    "same song.\n",
    "\n",
    "Broadcasting also describes mathematical operations between multiple Series\n",
    "objects. As a rule of thumb, pandas uses shared index labels to align values across different data structures."
   ]
  },
  {
   "cell_type": "code",
   "execution_count": 51,
   "metadata": {},
   "outputs": [
    {
     "name": "stdout",
     "output_type": "stream",
     "text": [
      "A    110\n",
      "B    220\n",
      "C    330\n",
      "D    440\n",
      "dtype: int64\n"
     ]
    }
   ],
   "source": [
    "s1 = pd.Series([10, 20, 30, 40],index=[\"A\",\"B\",\"C\",\"D\"])\n",
    "s2 = pd.Series([100, 200, 300, 400],index=[\"A\",\"B\",\"C\",\"D\"])\n",
    "print(s1+s2)"
   ]
  },
  {
   "cell_type": "code",
   "execution_count": 53,
   "metadata": {},
   "outputs": [
    {
     "name": "stdout",
     "output_type": "stream",
     "text": [
      "a    410\n",
      "b    320\n",
      "c    230\n",
      "d    140\n",
      "dtype: int64\n"
     ]
    }
   ],
   "source": [
    "s1 = pd.Series([10, 20, 30, 40],index=list('abcd'))\n",
    "s2 = pd.Series([100, 200, 300, 400],index=list('dcba'))\n",
    "print(s1+s2)"
   ]
  },
  {
   "cell_type": "code",
   "execution_count": 55,
   "metadata": {},
   "outputs": [
    {
     "name": "stdout",
     "output_type": "stream",
     "text": [
      "a    100\n",
      "b    200\n",
      "c    300\n",
      "d    400\n",
      "dtype: int64\n"
     ]
    }
   ],
   "source": [
    "s = pd.Series([10, 20, 30, 40],\n",
    "index=list('abcd'))\n",
    "print(s*10)"
   ]
  },
  {
   "cell_type": "markdown",
   "metadata": {},
   "source": [
    "### loc and iloc\n",
    "> Note that pandas’ loc accessor has some differences with Python’s list-slicing syntax.For one, the loc accessor includes the label at the upper bound, whereas Python’s list slicing syntax excludes the value at the upper bound."
   ]
  },
  {
   "cell_type": "code",
   "execution_count": 66,
   "metadata": {},
   "outputs": [
    {
     "name": "stdout",
     "output_type": "stream",
     "text": [
      "Sep    96\n",
      "Oct    89\n",
      "Nov    85\n",
      "Dec    78\n",
      "Jan    79\n",
      "Feb    71\n",
      "Mar    72\n",
      "Apr    70\n",
      "May    75\n",
      "Jun    95\n",
      "dtype: int64\n"
     ]
    }
   ],
   "source": [
    "g = np.random.default_rng(0)\n",
    "months = 'Sep Oct Nov Dec Jan Feb Mar Apr May Jun'.split()\n",
    "s = pd.Series(g.integers(70, 101, 10),\n",
    "index=months)\n",
    "print(s)"
   ]
  },
  {
   "cell_type": "code",
   "execution_count": 70,
   "metadata": {},
   "outputs": [
    {
     "name": "stdout",
     "output_type": "stream",
     "text": [
      "85.4\n",
      "76.6\n",
      "85.4\n",
      "85.4\n"
     ]
    }
   ],
   "source": [
    "print(s[:5].mean())\n",
    "print(s[5:].mean())\n",
    "\n",
    "#.iloc retrieves based on the numeric position—the default index\n",
    "print(s.iloc[:5].mean())\n",
    "\n",
    "\n",
    "# If we want to get the scores from the first five months (September, October, November, December, and January), we can use the following slice:\n",
    "first_half_average = s.loc['Sep':'Jan'].mean()\n",
    "print(first_half_average)\n",
    "#endpoint is “up to and including.” \n",
    "#That is, our 'Sep':'Jan' slice includes the value for January"
   ]
  },
  {
   "cell_type": "markdown",
   "metadata": {},
   "source": [
    "## Serious Series Methods"
   ]
  },
  {
   "cell_type": "markdown",
   "metadata": {},
   "source": [
    "### Importing a data set\n",
    "Pandas offers various methods to read data from different formats. The most commonly used are\n",
    "- `read_csv`\n",
    "- `read_html`\n",
    "- `read_json`\n",
    "- `read_sql`\n",
    "- `read_pickle`\n",
    "- `read_clipboard`\n",
    "- `read_xml`\n",
    "- `read_excel`\n",
    "\n",
    "We will use the read_csv method which is most commonly found\n",
    "> A CSV is a plain-text file that separates each row of data with a line break and each row value with a comma."
   ]
  },
  {
   "cell_type": "markdown",
   "metadata": {},
   "source": [
    "## Pandas Dataframe\n",
    "\n",
    "### Brackets or dots ?\n",
    "When we’re working with a series, we can retrieve values several ways: using the index\n",
    "(and loc), using the position (and iloc), and using square brackets, which are equivalent to loc for simple cases. When we work with data frames, though, we must use loc or iloc to retrieve rows. That’s because square brackets refer to the columns.\n"
   ]
  },
  {
   "cell_type": "code",
   "execution_count": 76,
   "metadata": {},
   "outputs": [
    {
     "name": "stdout",
     "output_type": "stream",
     "text": [
      "x    10\n",
      "y    50\n",
      "z    90\n",
      "Name: a, dtype: int64\n",
      "x     20\n",
      "y     60\n",
      "z    100\n",
      "Name: b, dtype: int64\n",
      "    a    b\n",
      "x  10   20\n",
      "y  50   60\n",
      "z  90  100\n"
     ]
    }
   ],
   "source": [
    "df = pd.DataFrame([[10, 20, 30, 40],\n",
    "[50, 60, 70, 80],\n",
    "[90, 100, 110, 120]],\n",
    "index=list('xyz'),\n",
    "columns=list('abcd'))\n",
    "\n",
    "\n",
    "print(df['a']) #returns a column\n",
    "print(df['b']) #returns a column\n",
    "print(df[['a','b']]) #passing a list of columns #returns a new df with columns a and b\n",
    "\n",
    "\n"
   ]
  },
  {
   "cell_type": "markdown",
   "metadata": {},
   "source": [
    "> But there is an exception to the “square brackets mean columns” rule: if we use a\n",
    "slice, pandas will look at the data frame’s rows, rather than its columns. This means\n",
    "we can retrieve rows from x through y with df['x':'y']. The slice tells pandas to use the rows rather than the\n",
    "columns. Moreover, the slice will return rows up to and including the endpoint, which is unusual for Python (but typical when using loc in pandas)."
   ]
  },
  {
   "cell_type": "markdown",
   "metadata": {},
   "source": [
    "Another way to work with columns is to use dot notation. That is, if you want to retrieve the column colname from data\n",
    "frame df, you can say ```df.colname``` \n"
   ]
  },
  {
   "cell_type": "code",
   "execution_count": 78,
   "metadata": {},
   "outputs": [
    {
     "name": "stdout",
     "output_type": "stream",
     "text": [
      "x    10\n",
      "y    50\n",
      "z    90\n",
      "Name: a, dtype: int64\n"
     ]
    }
   ],
   "source": [
    "print(df.a)\n",
    "# But the notation is confusing because df.whatever is a column named whatever or an attribute named whatever."
   ]
  },
  {
   "cell_type": "markdown",
   "metadata": {},
   "source": [
    "### Filtering a Dataframe\n"
   ]
  },
  {
   "cell_type": "markdown",
   "metadata": {},
   "source": [
    "#### Optimizing a data set for memory use"
   ]
  },
  {
   "cell_type": "code",
   "execution_count": 111,
   "metadata": {},
   "outputs": [
    {
     "data": {
      "text/html": [
       "<div>\n",
       "<style scoped>\n",
       "    .dataframe tbody tr th:only-of-type {\n",
       "        vertical-align: middle;\n",
       "    }\n",
       "\n",
       "    .dataframe tbody tr th {\n",
       "        vertical-align: top;\n",
       "    }\n",
       "\n",
       "    .dataframe thead th {\n",
       "        text-align: right;\n",
       "    }\n",
       "</style>\n",
       "<table border=\"1\" class=\"dataframe\">\n",
       "  <thead>\n",
       "    <tr style=\"text-align: right;\">\n",
       "      <th></th>\n",
       "      <th>First Name</th>\n",
       "      <th>Gender</th>\n",
       "      <th>Start Date</th>\n",
       "      <th>Salary</th>\n",
       "      <th>Mgmt</th>\n",
       "      <th>Team</th>\n",
       "    </tr>\n",
       "  </thead>\n",
       "  <tbody>\n",
       "    <tr>\n",
       "      <th>0</th>\n",
       "      <td>Douglas</td>\n",
       "      <td>Male</td>\n",
       "      <td>1993-08-06</td>\n",
       "      <td>NaN</td>\n",
       "      <td>True</td>\n",
       "      <td>Marketing</td>\n",
       "    </tr>\n",
       "    <tr>\n",
       "      <th>1</th>\n",
       "      <td>Thomas</td>\n",
       "      <td>Male</td>\n",
       "      <td>1996-03-31</td>\n",
       "      <td>61933.0</td>\n",
       "      <td>True</td>\n",
       "      <td>NaN</td>\n",
       "    </tr>\n",
       "    <tr>\n",
       "      <th>2</th>\n",
       "      <td>Maria</td>\n",
       "      <td>Female</td>\n",
       "      <td>NaT</td>\n",
       "      <td>130590.0</td>\n",
       "      <td>False</td>\n",
       "      <td>Finance</td>\n",
       "    </tr>\n",
       "    <tr>\n",
       "      <th>3</th>\n",
       "      <td>Jerry</td>\n",
       "      <td>NaN</td>\n",
       "      <td>2005-03-04</td>\n",
       "      <td>138705.0</td>\n",
       "      <td>True</td>\n",
       "      <td>Finance</td>\n",
       "    </tr>\n",
       "    <tr>\n",
       "      <th>4</th>\n",
       "      <td>Larry</td>\n",
       "      <td>Male</td>\n",
       "      <td>1998-01-24</td>\n",
       "      <td>101004.0</td>\n",
       "      <td>True</td>\n",
       "      <td>IT</td>\n",
       "    </tr>\n",
       "  </tbody>\n",
       "</table>\n",
       "</div>"
      ],
      "text/plain": [
       "  First Name  Gender Start Date    Salary   Mgmt       Team\n",
       "0    Douglas    Male 1993-08-06       NaN   True  Marketing\n",
       "1     Thomas    Male 1996-03-31   61933.0   True        NaN\n",
       "2      Maria  Female        NaT  130590.0  False    Finance\n",
       "3      Jerry     NaN 2005-03-04  138705.0   True    Finance\n",
       "4      Larry    Male 1998-01-24  101004.0   True         IT"
      ]
     },
     "execution_count": 111,
     "metadata": {},
     "output_type": "execute_result"
    }
   ],
   "source": [
    "employees = pd.read_csv(\"employees.csv\")\n",
    "employees[\"Start Date\"] = pd.to_datetime(employees[\"Start Date\"], format='mixed')\n",
    "employees.head()"
   ]
  },
  {
   "cell_type": "code",
   "execution_count": 81,
   "metadata": {},
   "outputs": [
    {
     "name": "stdout",
     "output_type": "stream",
     "text": [
      "<class 'pandas.core.frame.DataFrame'>\n",
      "RangeIndex: 1001 entries, 0 to 1000\n",
      "Data columns (total 6 columns):\n",
      " #   Column      Non-Null Count  Dtype  \n",
      "---  ------      --------------  -----  \n",
      " 0   First Name  933 non-null    object \n",
      " 1   Gender      854 non-null    object \n",
      " 2   Start Date  999 non-null    object \n",
      " 3   Salary      999 non-null    float64\n",
      " 4   Mgmt        933 non-null    object \n",
      " 5   Team        957 non-null    object \n",
      "dtypes: float64(1), object(5)\n",
      "memory usage: 47.0+ KB\n"
     ]
    }
   ],
   "source": [
    "employees.info()"
   ]
  },
  {
   "cell_type": "code",
   "execution_count": null,
   "metadata": {},
   "outputs": [],
   "source": [
    "##  Converting Data Types with the astype Method\n",
    "print(employees['Mgmt'].head(10))\n",
    "\n",
    "employees[\"Mgmt\"] = employees[\"Mgmt\"].astype(bool)\n",
    "\n",
    "print(employees['Mgmt'].head(10))\n"
   ]
  },
  {
   "cell_type": "code",
   "execution_count": 92,
   "metadata": {},
   "outputs": [],
   "source": [
    "## For Salary\n",
    "\n",
    "#This will give an error\n",
    "# employees['Salary']=employees['Salary'].astype(int)\n",
    "\n",
    "employees[\"Salary\"] = employees[\"Salary\"].fillna(0).astype(int)"
   ]
  },
  {
   "cell_type": "code",
   "execution_count": 93,
   "metadata": {},
   "outputs": [
    {
     "data": {
      "text/plain": [
       "First Name    200\n",
       "Gender          2\n",
       "Start Date    971\n",
       "Salary        995\n",
       "Mgmt            2\n",
       "Team           10\n",
       "dtype: int64"
      ]
     },
     "execution_count": 93,
     "metadata": {},
     "output_type": "execute_result"
    }
   ],
   "source": [
    "#For Gender\n",
    "employees.nunique()"
   ]
  },
  {
   "cell_type": "code",
   "execution_count": 95,
   "metadata": {},
   "outputs": [
    {
     "data": {
      "text/plain": [
       "0         Male\n",
       "1         Male\n",
       "2       Female\n",
       "3          NaN\n",
       "4         Male\n",
       "         ...  \n",
       "996       Male\n",
       "997       Male\n",
       "998       Male\n",
       "999       Male\n",
       "1000       NaN\n",
       "Name: Gender, Length: 1001, dtype: category\n",
       "Categories (2, object): ['Female', 'Male']"
      ]
     },
     "execution_count": 95,
     "metadata": {},
     "output_type": "execute_result"
    }
   ],
   "source": [
    "employees[\"Gender\"].astype(\"category\")"
   ]
  },
  {
   "cell_type": "code",
   "execution_count": 96,
   "metadata": {},
   "outputs": [],
   "source": [
    "employees[\"Gender\"] = employees[\"Gender\"].astype(\"category\")\n",
    "employees['Team']=employees['Team'].astype('category')"
   ]
  },
  {
   "cell_type": "code",
   "execution_count": 97,
   "metadata": {},
   "outputs": [
    {
     "name": "stdout",
     "output_type": "stream",
     "text": [
      "<class 'pandas.core.frame.DataFrame'>\n",
      "RangeIndex: 1001 entries, 0 to 1000\n",
      "Data columns (total 6 columns):\n",
      " #   Column      Non-Null Count  Dtype         \n",
      "---  ------      --------------  -----         \n",
      " 0   First Name  933 non-null    object        \n",
      " 1   Gender      854 non-null    category      \n",
      " 2   Start Date  999 non-null    datetime64[ns]\n",
      " 3   Salary      1001 non-null   int32         \n",
      " 4   Mgmt        1001 non-null   bool          \n",
      " 5   Team        957 non-null    category      \n",
      "dtypes: bool(1), category(2), datetime64[ns](1), int32(1), object(1)\n",
      "memory usage: 23.1+ KB\n"
     ]
    }
   ],
   "source": [
    "employees.info()"
   ]
  },
  {
   "cell_type": "markdown",
   "metadata": {},
   "source": [
    "### Apply method\n"
   ]
  },
  {
   "cell_type": "code",
   "execution_count": null,
   "metadata": {},
   "outputs": [],
   "source": [
    "\n",
    "print(\"1. Converting names to uppercase (fixed):\")\n",
    "print(employees['First Name'].fillna('').apply(str.upper))\n",
    "print(\"\\n\")\n",
    "\n",
    "#Or\n",
    "print(\"1. Alternative approach:\")\n",
    "print(employees['First Name'].apply(lambda x: str(x).upper() if pd.notna(x) else np.nan))\n",
    "print(\"\\n\")\n",
    "\n",
    "\n",
    "def salary_category(salary):\n",
    "    if pd.isna(salary):\n",
    "        return \"Unknown\"\n",
    "    elif salary < 80000:\n",
    "        return \"Entry\"\n",
    "    elif salary < 120000:\n",
    "        return \"Mid\"\n",
    "    else:\n",
    "        return \"Senior\"\n",
    "\n",
    "print(\"2. Categorizing salaries:\")\n",
    "print(employees['Salary'].apply(salary_category))"
   ]
  },
  {
   "cell_type": "code",
   "execution_count": null,
   "metadata": {},
   "outputs": [],
   "source": [
    "## Filtering by a single condition \n",
    "employees[employees[\"First Name\"] == \"Maria\"]\n",
    "employees[employees[\"Team\"] != \"Finance\"]\n",
    "high_earners = employees[\"Salary\"] > 100000\n",
    "employees[high_earners].head()"
   ]
  },
  {
   "cell_type": "code",
   "execution_count": null,
   "metadata": {},
   "outputs": [],
   "source": [
    "#Filtering by Multiple condition \n",
    "#isin method\n",
    "all_star_teams = [\"Sales\", \"Legal\", \"Marketing\"]\n",
    "on_all_star_teams = employees[\"Team\"].isin(all_star_teams)\n",
    "employees[on_all_star_teams].head()\n"
   ]
  },
  {
   "cell_type": "code",
   "execution_count": null,
   "metadata": {},
   "outputs": [],
   "source": [
    "#between method\n",
    "between_80k_and_90k = employees[\"Salary\"].between(80000, 90000)\n",
    "employees[between_80k_and_90k].head()"
   ]
  },
  {
   "cell_type": "markdown",
   "metadata": {},
   "source": [
    "### Dealing with Null values\n"
   ]
  },
  {
   "cell_type": "code",
   "execution_count": 104,
   "metadata": {},
   "outputs": [
    {
     "name": "stdout",
     "output_type": "stream",
     "text": [
      "(1001, 6)\n"
     ]
    }
   ],
   "source": [
    "employees = pd.read_csv(\"employees.csv\")\n",
    "employees[\"Start Date\"] = pd.to_datetime(employees[\"Start Date\"], format='mixed')\n",
    "# employees.head()\n",
    "print(employees.shape)"
   ]
  },
  {
   "cell_type": "code",
   "execution_count": 105,
   "metadata": {},
   "outputs": [
    {
     "name": "stdout",
     "output_type": "stream",
     "text": [
      "(761, 6)\n"
     ]
    }
   ],
   "source": [
    "employees=employees.dropna()\n",
    "print(employees.shape)"
   ]
  },
  {
   "cell_type": "code",
   "execution_count": 101,
   "metadata": {},
   "outputs": [
    {
     "name": "stdout",
     "output_type": "stream",
     "text": [
      "(1001, 6)\n"
     ]
    }
   ],
   "source": [
    "employees.dropna(how=\"all\")\n",
    "print(employees.shape)"
   ]
  },
  {
   "cell_type": "code",
   "execution_count": 106,
   "metadata": {},
   "outputs": [
    {
     "name": "stdout",
     "output_type": "stream",
     "text": [
      "(761, 6)\n"
     ]
    }
   ],
   "source": [
    "employees=employees.dropna(how=\"any\")\n",
    "print(employees.shape)"
   ]
  },
  {
   "cell_type": "markdown",
   "metadata": {},
   "source": [
    "### Drop Duplicates\n"
   ]
  },
  {
   "cell_type": "code",
   "execution_count": 107,
   "metadata": {},
   "outputs": [
    {
     "data": {
      "text/html": [
       "<div>\n",
       "<style scoped>\n",
       "    .dataframe tbody tr th:only-of-type {\n",
       "        vertical-align: middle;\n",
       "    }\n",
       "\n",
       "    .dataframe tbody tr th {\n",
       "        vertical-align: top;\n",
       "    }\n",
       "\n",
       "    .dataframe thead th {\n",
       "        text-align: right;\n",
       "    }\n",
       "</style>\n",
       "<table border=\"1\" class=\"dataframe\">\n",
       "  <thead>\n",
       "    <tr style=\"text-align: right;\">\n",
       "      <th></th>\n",
       "      <th>First Name</th>\n",
       "      <th>Gender</th>\n",
       "      <th>Start Date</th>\n",
       "      <th>Salary</th>\n",
       "      <th>Mgmt</th>\n",
       "      <th>Team</th>\n",
       "    </tr>\n",
       "  </thead>\n",
       "  <tbody>\n",
       "    <tr>\n",
       "      <th>4</th>\n",
       "      <td>Larry</td>\n",
       "      <td>Male</td>\n",
       "      <td>1998-01-24</td>\n",
       "      <td>101004.0</td>\n",
       "      <td>True</td>\n",
       "      <td>IT</td>\n",
       "    </tr>\n",
       "    <tr>\n",
       "      <th>5</th>\n",
       "      <td>Dennis</td>\n",
       "      <td>Male</td>\n",
       "      <td>1987-04-18</td>\n",
       "      <td>115163.0</td>\n",
       "      <td>False</td>\n",
       "      <td>Legal</td>\n",
       "    </tr>\n",
       "    <tr>\n",
       "      <th>6</th>\n",
       "      <td>Ruby</td>\n",
       "      <td>Female</td>\n",
       "      <td>1987-08-17</td>\n",
       "      <td>65476.0</td>\n",
       "      <td>True</td>\n",
       "      <td>Product</td>\n",
       "    </tr>\n",
       "    <tr>\n",
       "      <th>8</th>\n",
       "      <td>Angela</td>\n",
       "      <td>Female</td>\n",
       "      <td>2005-11-22</td>\n",
       "      <td>95570.0</td>\n",
       "      <td>True</td>\n",
       "      <td>Engineering</td>\n",
       "    </tr>\n",
       "    <tr>\n",
       "      <th>9</th>\n",
       "      <td>Frances</td>\n",
       "      <td>Female</td>\n",
       "      <td>2002-08-08</td>\n",
       "      <td>139852.0</td>\n",
       "      <td>True</td>\n",
       "      <td>Business Dev</td>\n",
       "    </tr>\n",
       "    <tr>\n",
       "      <th>...</th>\n",
       "      <td>...</td>\n",
       "      <td>...</td>\n",
       "      <td>...</td>\n",
       "      <td>...</td>\n",
       "      <td>...</td>\n",
       "      <td>...</td>\n",
       "    </tr>\n",
       "    <tr>\n",
       "      <th>994</th>\n",
       "      <td>George</td>\n",
       "      <td>Male</td>\n",
       "      <td>2013-06-21</td>\n",
       "      <td>98874.0</td>\n",
       "      <td>True</td>\n",
       "      <td>Marketing</td>\n",
       "    </tr>\n",
       "    <tr>\n",
       "      <th>996</th>\n",
       "      <td>Phillip</td>\n",
       "      <td>Male</td>\n",
       "      <td>1984-01-31</td>\n",
       "      <td>42392.0</td>\n",
       "      <td>False</td>\n",
       "      <td>Finance</td>\n",
       "    </tr>\n",
       "    <tr>\n",
       "      <th>997</th>\n",
       "      <td>Russell</td>\n",
       "      <td>Male</td>\n",
       "      <td>2013-05-20</td>\n",
       "      <td>96914.0</td>\n",
       "      <td>False</td>\n",
       "      <td>Product</td>\n",
       "    </tr>\n",
       "    <tr>\n",
       "      <th>998</th>\n",
       "      <td>Larry</td>\n",
       "      <td>Male</td>\n",
       "      <td>2013-04-20</td>\n",
       "      <td>60500.0</td>\n",
       "      <td>False</td>\n",
       "      <td>Business Dev</td>\n",
       "    </tr>\n",
       "    <tr>\n",
       "      <th>999</th>\n",
       "      <td>Albert</td>\n",
       "      <td>Male</td>\n",
       "      <td>2012-05-15</td>\n",
       "      <td>129949.0</td>\n",
       "      <td>True</td>\n",
       "      <td>Sales</td>\n",
       "    </tr>\n",
       "  </tbody>\n",
       "</table>\n",
       "<p>761 rows × 6 columns</p>\n",
       "</div>"
      ],
      "text/plain": [
       "    First Name  Gender Start Date    Salary   Mgmt          Team\n",
       "4        Larry    Male 1998-01-24  101004.0   True            IT\n",
       "5       Dennis    Male 1987-04-18  115163.0  False         Legal\n",
       "6         Ruby  Female 1987-08-17   65476.0   True       Product\n",
       "8       Angela  Female 2005-11-22   95570.0   True   Engineering\n",
       "9      Frances  Female 2002-08-08  139852.0   True  Business Dev\n",
       "..         ...     ...        ...       ...    ...           ...\n",
       "994     George    Male 2013-06-21   98874.0   True     Marketing\n",
       "996    Phillip    Male 1984-01-31   42392.0  False       Finance\n",
       "997    Russell    Male 2013-05-20   96914.0  False       Product\n",
       "998      Larry    Male 2013-04-20   60500.0  False  Business Dev\n",
       "999     Albert    Male 2012-05-15  129949.0   True         Sales\n",
       "\n",
       "[761 rows x 6 columns]"
      ]
     },
     "execution_count": 107,
     "metadata": {},
     "output_type": "execute_result"
    }
   ],
   "source": [
    "employees.drop_duplicates()"
   ]
  },
  {
   "cell_type": "code",
   "execution_count": 108,
   "metadata": {},
   "outputs": [
    {
     "data": {
      "text/html": [
       "<div>\n",
       "<style scoped>\n",
       "    .dataframe tbody tr th:only-of-type {\n",
       "        vertical-align: middle;\n",
       "    }\n",
       "\n",
       "    .dataframe tbody tr th {\n",
       "        vertical-align: top;\n",
       "    }\n",
       "\n",
       "    .dataframe thead th {\n",
       "        text-align: right;\n",
       "    }\n",
       "</style>\n",
       "<table border=\"1\" class=\"dataframe\">\n",
       "  <thead>\n",
       "    <tr style=\"text-align: right;\">\n",
       "      <th></th>\n",
       "      <th>First Name</th>\n",
       "      <th>Gender</th>\n",
       "      <th>Start Date</th>\n",
       "      <th>Salary</th>\n",
       "      <th>Mgmt</th>\n",
       "      <th>Team</th>\n",
       "    </tr>\n",
       "  </thead>\n",
       "  <tbody>\n",
       "    <tr>\n",
       "      <th>4</th>\n",
       "      <td>Larry</td>\n",
       "      <td>Male</td>\n",
       "      <td>1998-01-24</td>\n",
       "      <td>101004.0</td>\n",
       "      <td>True</td>\n",
       "      <td>IT</td>\n",
       "    </tr>\n",
       "    <tr>\n",
       "      <th>5</th>\n",
       "      <td>Dennis</td>\n",
       "      <td>Male</td>\n",
       "      <td>1987-04-18</td>\n",
       "      <td>115163.0</td>\n",
       "      <td>False</td>\n",
       "      <td>Legal</td>\n",
       "    </tr>\n",
       "    <tr>\n",
       "      <th>6</th>\n",
       "      <td>Ruby</td>\n",
       "      <td>Female</td>\n",
       "      <td>1987-08-17</td>\n",
       "      <td>65476.0</td>\n",
       "      <td>True</td>\n",
       "      <td>Product</td>\n",
       "    </tr>\n",
       "    <tr>\n",
       "      <th>8</th>\n",
       "      <td>Angela</td>\n",
       "      <td>Female</td>\n",
       "      <td>2005-11-22</td>\n",
       "      <td>95570.0</td>\n",
       "      <td>True</td>\n",
       "      <td>Engineering</td>\n",
       "    </tr>\n",
       "    <tr>\n",
       "      <th>9</th>\n",
       "      <td>Frances</td>\n",
       "      <td>Female</td>\n",
       "      <td>2002-08-08</td>\n",
       "      <td>139852.0</td>\n",
       "      <td>True</td>\n",
       "      <td>Business Dev</td>\n",
       "    </tr>\n",
       "    <tr>\n",
       "      <th>12</th>\n",
       "      <td>Brandon</td>\n",
       "      <td>Male</td>\n",
       "      <td>1980-12-01</td>\n",
       "      <td>112807.0</td>\n",
       "      <td>True</td>\n",
       "      <td>HR</td>\n",
       "    </tr>\n",
       "    <tr>\n",
       "      <th>13</th>\n",
       "      <td>Gary</td>\n",
       "      <td>Male</td>\n",
       "      <td>2008-01-27</td>\n",
       "      <td>109831.0</td>\n",
       "      <td>False</td>\n",
       "      <td>Sales</td>\n",
       "    </tr>\n",
       "    <tr>\n",
       "      <th>14</th>\n",
       "      <td>Kimberly</td>\n",
       "      <td>Female</td>\n",
       "      <td>1999-01-14</td>\n",
       "      <td>41426.0</td>\n",
       "      <td>True</td>\n",
       "      <td>Finance</td>\n",
       "    </tr>\n",
       "    <tr>\n",
       "      <th>21</th>\n",
       "      <td>Matthew</td>\n",
       "      <td>Male</td>\n",
       "      <td>1995-09-05</td>\n",
       "      <td>100612.0</td>\n",
       "      <td>False</td>\n",
       "      <td>Marketing</td>\n",
       "    </tr>\n",
       "    <tr>\n",
       "      <th>40</th>\n",
       "      <td>Michael</td>\n",
       "      <td>Male</td>\n",
       "      <td>2008-10-10</td>\n",
       "      <td>99283.0</td>\n",
       "      <td>True</td>\n",
       "      <td>Distribution</td>\n",
       "    </tr>\n",
       "  </tbody>\n",
       "</table>\n",
       "</div>"
      ],
      "text/plain": [
       "   First Name  Gender Start Date    Salary   Mgmt          Team\n",
       "4       Larry    Male 1998-01-24  101004.0   True            IT\n",
       "5      Dennis    Male 1987-04-18  115163.0  False         Legal\n",
       "6        Ruby  Female 1987-08-17   65476.0   True       Product\n",
       "8      Angela  Female 2005-11-22   95570.0   True   Engineering\n",
       "9     Frances  Female 2002-08-08  139852.0   True  Business Dev\n",
       "12    Brandon    Male 1980-12-01  112807.0   True            HR\n",
       "13       Gary    Male 2008-01-27  109831.0  False         Sales\n",
       "14   Kimberly  Female 1999-01-14   41426.0   True       Finance\n",
       "21    Matthew    Male 1995-09-05  100612.0  False     Marketing\n",
       "40    Michael    Male 2008-10-10   99283.0   True  Distribution"
      ]
     },
     "execution_count": 108,
     "metadata": {},
     "output_type": "execute_result"
    }
   ],
   "source": [
    "employees.drop_duplicates(subset = [\"Team\"])"
   ]
  },
  {
   "cell_type": "markdown",
   "metadata": {},
   "source": [
    "### Groupby in Dataframe"
   ]
  },
  {
   "cell_type": "code",
   "execution_count": 116,
   "metadata": {},
   "outputs": [
    {
     "name": "stdout",
     "output_type": "stream",
     "text": [
      "1. Basic Aggregations by Team:\n",
      "                      mean      min       max  count\n",
      "Team                                                \n",
      "Business Dev  91866.316832  36844.0  147417.0    101\n",
      "Distribution  88500.466667  35575.0  149105.0     90\n",
      "Engineering   94269.195652  36946.0  147362.0     92\n",
      "Finance       92219.480392  35381.0  149908.0    102\n",
      "HR            90944.527473  35203.0  149903.0     91\n",
      "IT            88224.424528  35095.0  147183.0    106\n",
      "Legal         89303.613636  35061.0  148985.0     88\n",
      "Marketing     90364.742268  36643.0  149456.0     97\n",
      "Product       88665.505263  35013.0  149684.0     95\n",
      "Sales         92173.436170  35802.0  149654.0     94\n",
      "\n",
      "\n"
     ]
    }
   ],
   "source": [
    "print(\"1. Basic Aggregations by Team:\")\n",
    "print(employees.groupby('Team')['Salary'].agg(['mean', 'min', 'max', 'count']))\n",
    "print(\"\\n\")\n"
   ]
  },
  {
   "cell_type": "code",
   "execution_count": null,
   "metadata": {},
   "outputs": [],
   "source": [
    "# Multiple columns aggregation\n",
    "print(\"2. Multiple Column Analysis by Team:\")\n",
    "groupby_result = employees.groupby('Team').agg({\n",
    "    'Salary': ['mean', 'count'],\n",
    "    'Mgmt': 'sum',  # Count of managers (True values)\n",
    "    'Gender': lambda x: x.value_counts().get('Female', 0)  # Count of females\n",
    "})\n",
    "print(groupby_result)\n",
    "print(\"\\n\")\n"
   ]
  },
  {
   "cell_type": "code",
   "execution_count": null,
   "metadata": {},
   "outputs": [],
   "source": [
    "# Size vs Count\n",
    "print(\"3. Size vs Count (Size includes NaN):\")\n",
    "print(\"Size:\")\n",
    "print(employees.groupby('Team').size())\n",
    "print(\"\\nCount:\")\n",
    "print(employees.groupby('Team').count())\n",
    "print(\"\\n\")\n",
    "\n"
   ]
  },
  {
   "cell_type": "markdown",
   "metadata": {},
   "source": [
    "## Merging, Concatenating & Joins"
   ]
  },
  {
   "cell_type": "code",
   "execution_count": 121,
   "metadata": {},
   "outputs": [
    {
     "name": "stdout",
     "output_type": "stream",
     "text": [
      "(7999, 4)\n"
     ]
    },
    {
     "data": {
      "text/html": [
       "<div>\n",
       "<style scoped>\n",
       "    .dataframe tbody tr th:only-of-type {\n",
       "        vertical-align: middle;\n",
       "    }\n",
       "\n",
       "    .dataframe tbody tr th {\n",
       "        vertical-align: top;\n",
       "    }\n",
       "\n",
       "    .dataframe thead th {\n",
       "        text-align: right;\n",
       "    }\n",
       "</style>\n",
       "<table border=\"1\" class=\"dataframe\">\n",
       "  <thead>\n",
       "    <tr style=\"text-align: right;\">\n",
       "      <th></th>\n",
       "      <th>group_id</th>\n",
       "      <th>name</th>\n",
       "      <th>category_id</th>\n",
       "      <th>city_id</th>\n",
       "    </tr>\n",
       "  </thead>\n",
       "  <tbody>\n",
       "    <tr>\n",
       "      <th>0</th>\n",
       "      <td>6388</td>\n",
       "      <td>Alternative Health NYC</td>\n",
       "      <td>14</td>\n",
       "      <td>10001</td>\n",
       "    </tr>\n",
       "    <tr>\n",
       "      <th>1</th>\n",
       "      <td>6510</td>\n",
       "      <td>Alternative Energy Meetup</td>\n",
       "      <td>4</td>\n",
       "      <td>10001</td>\n",
       "    </tr>\n",
       "    <tr>\n",
       "      <th>2</th>\n",
       "      <td>8458</td>\n",
       "      <td>NYC Animal Rights</td>\n",
       "      <td>26</td>\n",
       "      <td>10001</td>\n",
       "    </tr>\n",
       "    <tr>\n",
       "      <th>3</th>\n",
       "      <td>8940</td>\n",
       "      <td>The New York City Anime Group</td>\n",
       "      <td>29</td>\n",
       "      <td>10001</td>\n",
       "    </tr>\n",
       "    <tr>\n",
       "      <th>4</th>\n",
       "      <td>10104</td>\n",
       "      <td>NYC Pit Bull Group</td>\n",
       "      <td>26</td>\n",
       "      <td>10001</td>\n",
       "    </tr>\n",
       "  </tbody>\n",
       "</table>\n",
       "</div>"
      ],
      "text/plain": [
       "   group_id                           name  category_id  city_id\n",
       "0      6388         Alternative Health NYC           14    10001\n",
       "1      6510      Alternative Energy Meetup            4    10001\n",
       "2      8458              NYC Animal Rights           26    10001\n",
       "3      8940  The New York City Anime Group           29    10001\n",
       "4     10104             NYC Pit Bull Group           26    10001"
      ]
     },
     "execution_count": 121,
     "metadata": {},
     "output_type": "execute_result"
    }
   ],
   "source": [
    "groups1 = pd.read_csv(\"meetup/groups1.csv\")\n",
    "print(groups1.shape)\n",
    "groups1.head()\n"
   ]
  },
  {
   "cell_type": "code",
   "execution_count": 122,
   "metadata": {},
   "outputs": [
    {
     "name": "stdout",
     "output_type": "stream",
     "text": [
      "(8331, 4)\n"
     ]
    },
    {
     "data": {
      "text/html": [
       "<div>\n",
       "<style scoped>\n",
       "    .dataframe tbody tr th:only-of-type {\n",
       "        vertical-align: middle;\n",
       "    }\n",
       "\n",
       "    .dataframe tbody tr th {\n",
       "        vertical-align: top;\n",
       "    }\n",
       "\n",
       "    .dataframe thead th {\n",
       "        text-align: right;\n",
       "    }\n",
       "</style>\n",
       "<table border=\"1\" class=\"dataframe\">\n",
       "  <thead>\n",
       "    <tr style=\"text-align: right;\">\n",
       "      <th></th>\n",
       "      <th>group_id</th>\n",
       "      <th>name</th>\n",
       "      <th>category_id</th>\n",
       "      <th>city_id</th>\n",
       "    </tr>\n",
       "  </thead>\n",
       "  <tbody>\n",
       "    <tr>\n",
       "      <th>0</th>\n",
       "      <td>18879327</td>\n",
       "      <td>BachataMania</td>\n",
       "      <td>5</td>\n",
       "      <td>10001</td>\n",
       "    </tr>\n",
       "    <tr>\n",
       "      <th>1</th>\n",
       "      <td>18880221</td>\n",
       "      <td>Photoshoot Chicago - Photography and Modeling ...</td>\n",
       "      <td>27</td>\n",
       "      <td>60601</td>\n",
       "    </tr>\n",
       "    <tr>\n",
       "      <th>2</th>\n",
       "      <td>18880426</td>\n",
       "      <td>Chicago Adult Push / Kick Scooter Group Riding...</td>\n",
       "      <td>31</td>\n",
       "      <td>60601</td>\n",
       "    </tr>\n",
       "    <tr>\n",
       "      <th>3</th>\n",
       "      <td>18880495</td>\n",
       "      <td>Chicago International Soccer Club</td>\n",
       "      <td>32</td>\n",
       "      <td>60601</td>\n",
       "    </tr>\n",
       "    <tr>\n",
       "      <th>4</th>\n",
       "      <td>18880695</td>\n",
       "      <td>Impact.tech San Francisco Meetup</td>\n",
       "      <td>2</td>\n",
       "      <td>94101</td>\n",
       "    </tr>\n",
       "  </tbody>\n",
       "</table>\n",
       "</div>"
      ],
      "text/plain": [
       "   group_id                                               name  category_id  \\\n",
       "0  18879327                                       BachataMania            5   \n",
       "1  18880221  Photoshoot Chicago - Photography and Modeling ...           27   \n",
       "2  18880426  Chicago Adult Push / Kick Scooter Group Riding...           31   \n",
       "3  18880495                  Chicago International Soccer Club           32   \n",
       "4  18880695                   Impact.tech San Francisco Meetup            2   \n",
       "\n",
       "   city_id  \n",
       "0    10001  \n",
       "1    60601  \n",
       "2    60601  \n",
       "3    60601  \n",
       "4    94101  "
      ]
     },
     "execution_count": 122,
     "metadata": {},
     "output_type": "execute_result"
    }
   ],
   "source": [
    "groups2 = pd.read_csv(\"meetup/groups2.csv\")\n",
    "print(groups2.shape)\n",
    "groups2.head()"
   ]
  },
  {
   "cell_type": "code",
   "execution_count": 123,
   "metadata": {},
   "outputs": [
    {
     "data": {
      "text/html": [
       "<div>\n",
       "<style scoped>\n",
       "    .dataframe tbody tr th:only-of-type {\n",
       "        vertical-align: middle;\n",
       "    }\n",
       "\n",
       "    .dataframe tbody tr th {\n",
       "        vertical-align: top;\n",
       "    }\n",
       "\n",
       "    .dataframe thead th {\n",
       "        text-align: right;\n",
       "    }\n",
       "</style>\n",
       "<table border=\"1\" class=\"dataframe\">\n",
       "  <thead>\n",
       "    <tr style=\"text-align: right;\">\n",
       "      <th></th>\n",
       "      <th>group_id</th>\n",
       "      <th>name</th>\n",
       "      <th>category_id</th>\n",
       "      <th>city_id</th>\n",
       "    </tr>\n",
       "  </thead>\n",
       "  <tbody>\n",
       "    <tr>\n",
       "      <th>0</th>\n",
       "      <td>6388</td>\n",
       "      <td>Alternative Health NYC</td>\n",
       "      <td>14</td>\n",
       "      <td>10001</td>\n",
       "    </tr>\n",
       "    <tr>\n",
       "      <th>1</th>\n",
       "      <td>6510</td>\n",
       "      <td>Alternative Energy Meetup</td>\n",
       "      <td>4</td>\n",
       "      <td>10001</td>\n",
       "    </tr>\n",
       "    <tr>\n",
       "      <th>2</th>\n",
       "      <td>8458</td>\n",
       "      <td>NYC Animal Rights</td>\n",
       "      <td>26</td>\n",
       "      <td>10001</td>\n",
       "    </tr>\n",
       "    <tr>\n",
       "      <th>3</th>\n",
       "      <td>8940</td>\n",
       "      <td>The New York City Anime Group</td>\n",
       "      <td>29</td>\n",
       "      <td>10001</td>\n",
       "    </tr>\n",
       "    <tr>\n",
       "      <th>4</th>\n",
       "      <td>10104</td>\n",
       "      <td>NYC Pit Bull Group</td>\n",
       "      <td>26</td>\n",
       "      <td>10001</td>\n",
       "    </tr>\n",
       "    <tr>\n",
       "      <th>...</th>\n",
       "      <td>...</td>\n",
       "      <td>...</td>\n",
       "      <td>...</td>\n",
       "      <td>...</td>\n",
       "    </tr>\n",
       "    <tr>\n",
       "      <th>8326</th>\n",
       "      <td>26377464</td>\n",
       "      <td>Shinect</td>\n",
       "      <td>34</td>\n",
       "      <td>94101</td>\n",
       "    </tr>\n",
       "    <tr>\n",
       "      <th>8327</th>\n",
       "      <td>26377698</td>\n",
       "      <td>The art of getting what you want [conference s...</td>\n",
       "      <td>14</td>\n",
       "      <td>94101</td>\n",
       "    </tr>\n",
       "    <tr>\n",
       "      <th>8328</th>\n",
       "      <td>26378067</td>\n",
       "      <td>Streeterville Running Group</td>\n",
       "      <td>9</td>\n",
       "      <td>60601</td>\n",
       "    </tr>\n",
       "    <tr>\n",
       "      <th>8329</th>\n",
       "      <td>26378128</td>\n",
       "      <td>Just Dance NYC</td>\n",
       "      <td>23</td>\n",
       "      <td>10001</td>\n",
       "    </tr>\n",
       "    <tr>\n",
       "      <th>8330</th>\n",
       "      <td>26378470</td>\n",
       "      <td>FREE Arabic Chicago Evanston North Burbs</td>\n",
       "      <td>31</td>\n",
       "      <td>60601</td>\n",
       "    </tr>\n",
       "  </tbody>\n",
       "</table>\n",
       "<p>16330 rows × 4 columns</p>\n",
       "</div>"
      ],
      "text/plain": [
       "      group_id                                               name  \\\n",
       "0         6388                             Alternative Health NYC   \n",
       "1         6510                          Alternative Energy Meetup   \n",
       "2         8458                                  NYC Animal Rights   \n",
       "3         8940                      The New York City Anime Group   \n",
       "4        10104                                 NYC Pit Bull Group   \n",
       "...        ...                                                ...   \n",
       "8326  26377464                                            Shinect   \n",
       "8327  26377698  The art of getting what you want [conference s...   \n",
       "8328  26378067                        Streeterville Running Group   \n",
       "8329  26378128                                     Just Dance NYC   \n",
       "8330  26378470           FREE Arabic Chicago Evanston North Burbs   \n",
       "\n",
       "      category_id  city_id  \n",
       "0              14    10001  \n",
       "1               4    10001  \n",
       "2              26    10001  \n",
       "3              29    10001  \n",
       "4              26    10001  \n",
       "...           ...      ...  \n",
       "8326           34    94101  \n",
       "8327           14    94101  \n",
       "8328            9    60601  \n",
       "8329           23    10001  \n",
       "8330           31    60601  \n",
       "\n",
       "[16330 rows x 4 columns]"
      ]
     },
     "execution_count": 123,
     "metadata": {},
     "output_type": "execute_result"
    }
   ],
   "source": [
    "pd.concat(objs = [groups1, groups2])"
   ]
  },
  {
   "cell_type": "code",
   "execution_count": 124,
   "metadata": {},
   "outputs": [
    {
     "data": {
      "text/html": [
       "<div>\n",
       "<style scoped>\n",
       "    .dataframe tbody tr th:only-of-type {\n",
       "        vertical-align: middle;\n",
       "    }\n",
       "\n",
       "    .dataframe tbody tr th {\n",
       "        vertical-align: top;\n",
       "    }\n",
       "\n",
       "    .dataframe thead th {\n",
       "        text-align: right;\n",
       "    }\n",
       "</style>\n",
       "<table border=\"1\" class=\"dataframe\">\n",
       "  <thead>\n",
       "    <tr style=\"text-align: right;\">\n",
       "      <th></th>\n",
       "      <th>group_id</th>\n",
       "      <th>name</th>\n",
       "      <th>category_id</th>\n",
       "      <th>city_id</th>\n",
       "    </tr>\n",
       "  </thead>\n",
       "  <tbody>\n",
       "    <tr>\n",
       "      <th>0</th>\n",
       "      <td>6388</td>\n",
       "      <td>Alternative Health NYC</td>\n",
       "      <td>14</td>\n",
       "      <td>10001</td>\n",
       "    </tr>\n",
       "    <tr>\n",
       "      <th>1</th>\n",
       "      <td>6510</td>\n",
       "      <td>Alternative Energy Meetup</td>\n",
       "      <td>4</td>\n",
       "      <td>10001</td>\n",
       "    </tr>\n",
       "    <tr>\n",
       "      <th>2</th>\n",
       "      <td>8458</td>\n",
       "      <td>NYC Animal Rights</td>\n",
       "      <td>26</td>\n",
       "      <td>10001</td>\n",
       "    </tr>\n",
       "    <tr>\n",
       "      <th>3</th>\n",
       "      <td>8940</td>\n",
       "      <td>The New York City Anime Group</td>\n",
       "      <td>29</td>\n",
       "      <td>10001</td>\n",
       "    </tr>\n",
       "    <tr>\n",
       "      <th>4</th>\n",
       "      <td>10104</td>\n",
       "      <td>NYC Pit Bull Group</td>\n",
       "      <td>26</td>\n",
       "      <td>10001</td>\n",
       "    </tr>\n",
       "    <tr>\n",
       "      <th>...</th>\n",
       "      <td>...</td>\n",
       "      <td>...</td>\n",
       "      <td>...</td>\n",
       "      <td>...</td>\n",
       "    </tr>\n",
       "    <tr>\n",
       "      <th>16325</th>\n",
       "      <td>26377464</td>\n",
       "      <td>Shinect</td>\n",
       "      <td>34</td>\n",
       "      <td>94101</td>\n",
       "    </tr>\n",
       "    <tr>\n",
       "      <th>16326</th>\n",
       "      <td>26377698</td>\n",
       "      <td>The art of getting what you want [conference s...</td>\n",
       "      <td>14</td>\n",
       "      <td>94101</td>\n",
       "    </tr>\n",
       "    <tr>\n",
       "      <th>16327</th>\n",
       "      <td>26378067</td>\n",
       "      <td>Streeterville Running Group</td>\n",
       "      <td>9</td>\n",
       "      <td>60601</td>\n",
       "    </tr>\n",
       "    <tr>\n",
       "      <th>16328</th>\n",
       "      <td>26378128</td>\n",
       "      <td>Just Dance NYC</td>\n",
       "      <td>23</td>\n",
       "      <td>10001</td>\n",
       "    </tr>\n",
       "    <tr>\n",
       "      <th>16329</th>\n",
       "      <td>26378470</td>\n",
       "      <td>FREE Arabic Chicago Evanston North Burbs</td>\n",
       "      <td>31</td>\n",
       "      <td>60601</td>\n",
       "    </tr>\n",
       "  </tbody>\n",
       "</table>\n",
       "<p>16330 rows × 4 columns</p>\n",
       "</div>"
      ],
      "text/plain": [
       "       group_id                                               name  \\\n",
       "0          6388                             Alternative Health NYC   \n",
       "1          6510                          Alternative Energy Meetup   \n",
       "2          8458                                  NYC Animal Rights   \n",
       "3          8940                      The New York City Anime Group   \n",
       "4         10104                                 NYC Pit Bull Group   \n",
       "...         ...                                                ...   \n",
       "16325  26377464                                            Shinect   \n",
       "16326  26377698  The art of getting what you want [conference s...   \n",
       "16327  26378067                        Streeterville Running Group   \n",
       "16328  26378128                                     Just Dance NYC   \n",
       "16329  26378470           FREE Arabic Chicago Evanston North Burbs   \n",
       "\n",
       "       category_id  city_id  \n",
       "0               14    10001  \n",
       "1                4    10001  \n",
       "2               26    10001  \n",
       "3               29    10001  \n",
       "4               26    10001  \n",
       "...            ...      ...  \n",
       "16325           34    94101  \n",
       "16326           14    94101  \n",
       "16327            9    60601  \n",
       "16328           23    10001  \n",
       "16329           31    60601  \n",
       "\n",
       "[16330 rows x 4 columns]"
      ]
     },
     "execution_count": 124,
     "metadata": {},
     "output_type": "execute_result"
    }
   ],
   "source": [
    "pd.concat(objs = [groups1, groups2], ignore_index = True)"
   ]
  },
  {
   "cell_type": "code",
   "execution_count": 125,
   "metadata": {},
   "outputs": [
    {
     "data": {
      "text/html": [
       "<div>\n",
       "<style scoped>\n",
       "    .dataframe tbody tr th:only-of-type {\n",
       "        vertical-align: middle;\n",
       "    }\n",
       "\n",
       "    .dataframe tbody tr th {\n",
       "        vertical-align: top;\n",
       "    }\n",
       "\n",
       "    .dataframe thead th {\n",
       "        text-align: right;\n",
       "    }\n",
       "</style>\n",
       "<table border=\"1\" class=\"dataframe\">\n",
       "  <thead>\n",
       "    <tr style=\"text-align: right;\">\n",
       "      <th></th>\n",
       "      <th></th>\n",
       "      <th>group_id</th>\n",
       "      <th>name</th>\n",
       "      <th>category_id</th>\n",
       "      <th>city_id</th>\n",
       "    </tr>\n",
       "  </thead>\n",
       "  <tbody>\n",
       "    <tr>\n",
       "      <th rowspan=\"5\" valign=\"top\">G1</th>\n",
       "      <th>0</th>\n",
       "      <td>6388</td>\n",
       "      <td>Alternative Health NYC</td>\n",
       "      <td>14</td>\n",
       "      <td>10001</td>\n",
       "    </tr>\n",
       "    <tr>\n",
       "      <th>1</th>\n",
       "      <td>6510</td>\n",
       "      <td>Alternative Energy Meetup</td>\n",
       "      <td>4</td>\n",
       "      <td>10001</td>\n",
       "    </tr>\n",
       "    <tr>\n",
       "      <th>2</th>\n",
       "      <td>8458</td>\n",
       "      <td>NYC Animal Rights</td>\n",
       "      <td>26</td>\n",
       "      <td>10001</td>\n",
       "    </tr>\n",
       "    <tr>\n",
       "      <th>3</th>\n",
       "      <td>8940</td>\n",
       "      <td>The New York City Anime Group</td>\n",
       "      <td>29</td>\n",
       "      <td>10001</td>\n",
       "    </tr>\n",
       "    <tr>\n",
       "      <th>4</th>\n",
       "      <td>10104</td>\n",
       "      <td>NYC Pit Bull Group</td>\n",
       "      <td>26</td>\n",
       "      <td>10001</td>\n",
       "    </tr>\n",
       "    <tr>\n",
       "      <th>...</th>\n",
       "      <th>...</th>\n",
       "      <td>...</td>\n",
       "      <td>...</td>\n",
       "      <td>...</td>\n",
       "      <td>...</td>\n",
       "    </tr>\n",
       "    <tr>\n",
       "      <th rowspan=\"5\" valign=\"top\">G2</th>\n",
       "      <th>8326</th>\n",
       "      <td>26377464</td>\n",
       "      <td>Shinect</td>\n",
       "      <td>34</td>\n",
       "      <td>94101</td>\n",
       "    </tr>\n",
       "    <tr>\n",
       "      <th>8327</th>\n",
       "      <td>26377698</td>\n",
       "      <td>The art of getting what you want [conference s...</td>\n",
       "      <td>14</td>\n",
       "      <td>94101</td>\n",
       "    </tr>\n",
       "    <tr>\n",
       "      <th>8328</th>\n",
       "      <td>26378067</td>\n",
       "      <td>Streeterville Running Group</td>\n",
       "      <td>9</td>\n",
       "      <td>60601</td>\n",
       "    </tr>\n",
       "    <tr>\n",
       "      <th>8329</th>\n",
       "      <td>26378128</td>\n",
       "      <td>Just Dance NYC</td>\n",
       "      <td>23</td>\n",
       "      <td>10001</td>\n",
       "    </tr>\n",
       "    <tr>\n",
       "      <th>8330</th>\n",
       "      <td>26378470</td>\n",
       "      <td>FREE Arabic Chicago Evanston North Burbs</td>\n",
       "      <td>31</td>\n",
       "      <td>60601</td>\n",
       "    </tr>\n",
       "  </tbody>\n",
       "</table>\n",
       "<p>16330 rows × 4 columns</p>\n",
       "</div>"
      ],
      "text/plain": [
       "         group_id                                               name  \\\n",
       "G1 0         6388                             Alternative Health NYC   \n",
       "   1         6510                          Alternative Energy Meetup   \n",
       "   2         8458                                  NYC Animal Rights   \n",
       "   3         8940                      The New York City Anime Group   \n",
       "   4        10104                                 NYC Pit Bull Group   \n",
       "...           ...                                                ...   \n",
       "G2 8326  26377464                                            Shinect   \n",
       "   8327  26377698  The art of getting what you want [conference s...   \n",
       "   8328  26378067                        Streeterville Running Group   \n",
       "   8329  26378128                                     Just Dance NYC   \n",
       "   8330  26378470           FREE Arabic Chicago Evanston North Burbs   \n",
       "\n",
       "         category_id  city_id  \n",
       "G1 0              14    10001  \n",
       "   1               4    10001  \n",
       "   2              26    10001  \n",
       "   3              29    10001  \n",
       "   4              26    10001  \n",
       "...              ...      ...  \n",
       "G2 8326           34    94101  \n",
       "   8327           14    94101  \n",
       "   8328            9    60601  \n",
       "   8329           23    10001  \n",
       "   8330           31    60601  \n",
       "\n",
       "[16330 rows x 4 columns]"
      ]
     },
     "execution_count": 125,
     "metadata": {},
     "output_type": "execute_result"
    }
   ],
   "source": [
    "pd.concat(objs = [groups1, groups2], keys = [\"G1\", \"G2\"])"
   ]
  },
  {
   "cell_type": "code",
   "execution_count": 126,
   "metadata": {},
   "outputs": [],
   "source": [
    "groups = pd.concat(objs = [groups1, groups2], ignore_index = True)"
   ]
  },
  {
   "cell_type": "markdown",
   "metadata": {},
   "source": [
    "### Merging"
   ]
  },
  {
   "cell_type": "code",
   "execution_count": 129,
   "metadata": {},
   "outputs": [
    {
     "data": {
      "text/html": [
       "<div>\n",
       "<style scoped>\n",
       "    .dataframe tbody tr th:only-of-type {\n",
       "        vertical-align: middle;\n",
       "    }\n",
       "\n",
       "    .dataframe tbody tr th {\n",
       "        vertical-align: top;\n",
       "    }\n",
       "\n",
       "    .dataframe thead th {\n",
       "        text-align: right;\n",
       "    }\n",
       "</style>\n",
       "<table border=\"1\" class=\"dataframe\">\n",
       "  <thead>\n",
       "    <tr style=\"text-align: right;\">\n",
       "      <th></th>\n",
       "      <th>category_id</th>\n",
       "      <th>category_name</th>\n",
       "    </tr>\n",
       "  </thead>\n",
       "  <tbody>\n",
       "    <tr>\n",
       "      <th>0</th>\n",
       "      <td>1</td>\n",
       "      <td>Arts &amp; Culture</td>\n",
       "    </tr>\n",
       "    <tr>\n",
       "      <th>1</th>\n",
       "      <td>3</td>\n",
       "      <td>Cars &amp; Motorcycles</td>\n",
       "    </tr>\n",
       "    <tr>\n",
       "      <th>2</th>\n",
       "      <td>4</td>\n",
       "      <td>Community &amp; Environment</td>\n",
       "    </tr>\n",
       "    <tr>\n",
       "      <th>3</th>\n",
       "      <td>5</td>\n",
       "      <td>Dancing</td>\n",
       "    </tr>\n",
       "    <tr>\n",
       "      <th>4</th>\n",
       "      <td>6</td>\n",
       "      <td>Education &amp; Learning</td>\n",
       "    </tr>\n",
       "  </tbody>\n",
       "</table>\n",
       "</div>"
      ],
      "text/plain": [
       "   category_id            category_name\n",
       "0            1           Arts & Culture\n",
       "1            3       Cars & Motorcycles\n",
       "2            4  Community & Environment\n",
       "3            5                  Dancing\n",
       "4            6     Education & Learning"
      ]
     },
     "execution_count": 129,
     "metadata": {},
     "output_type": "execute_result"
    }
   ],
   "source": [
    "categories = pd.read_csv(\"meetup/categories.csv\")\n",
    "categories.head()"
   ]
  },
  {
   "cell_type": "code",
   "execution_count": 130,
   "metadata": {},
   "outputs": [
    {
     "data": {
      "text/html": [
       "<div>\n",
       "<style scoped>\n",
       "    .dataframe tbody tr th:only-of-type {\n",
       "        vertical-align: middle;\n",
       "    }\n",
       "\n",
       "    .dataframe tbody tr th {\n",
       "        vertical-align: top;\n",
       "    }\n",
       "\n",
       "    .dataframe thead th {\n",
       "        text-align: right;\n",
       "    }\n",
       "</style>\n",
       "<table border=\"1\" class=\"dataframe\">\n",
       "  <thead>\n",
       "    <tr style=\"text-align: right;\">\n",
       "      <th></th>\n",
       "      <th>id</th>\n",
       "      <th>city</th>\n",
       "      <th>state</th>\n",
       "      <th>zip</th>\n",
       "    </tr>\n",
       "  </thead>\n",
       "  <tbody>\n",
       "    <tr>\n",
       "      <th>0</th>\n",
       "      <td>7093</td>\n",
       "      <td>West New York</td>\n",
       "      <td>NJ</td>\n",
       "      <td>07093</td>\n",
       "    </tr>\n",
       "    <tr>\n",
       "      <th>1</th>\n",
       "      <td>10001</td>\n",
       "      <td>New York</td>\n",
       "      <td>NY</td>\n",
       "      <td>10001</td>\n",
       "    </tr>\n",
       "    <tr>\n",
       "      <th>2</th>\n",
       "      <td>13417</td>\n",
       "      <td>New York Mills</td>\n",
       "      <td>NY</td>\n",
       "      <td>13417</td>\n",
       "    </tr>\n",
       "    <tr>\n",
       "      <th>3</th>\n",
       "      <td>46312</td>\n",
       "      <td>East Chicago</td>\n",
       "      <td>IN</td>\n",
       "      <td>46312</td>\n",
       "    </tr>\n",
       "    <tr>\n",
       "      <th>4</th>\n",
       "      <td>56567</td>\n",
       "      <td>New York Mills</td>\n",
       "      <td>MN</td>\n",
       "      <td>56567</td>\n",
       "    </tr>\n",
       "  </tbody>\n",
       "</table>\n",
       "</div>"
      ],
      "text/plain": [
       "      id            city state    zip\n",
       "0   7093   West New York    NJ  07093\n",
       "1  10001        New York    NY  10001\n",
       "2  13417  New York Mills    NY  13417\n",
       "3  46312    East Chicago    IN  46312\n",
       "4  56567  New York Mills    MN  56567"
      ]
     },
     "execution_count": 130,
     "metadata": {},
     "output_type": "execute_result"
    }
   ],
   "source": [
    "cities = pd.read_csv(\n",
    "    \"meetup/cities.csv\", dtype = {\"zip\": \"string\"}\n",
    ")\n",
    "cities.head()"
   ]
  },
  {
   "cell_type": "code",
   "execution_count": 131,
   "metadata": {},
   "outputs": [
    {
     "data": {
      "text/html": [
       "<div>\n",
       "<style scoped>\n",
       "    .dataframe tbody tr th:only-of-type {\n",
       "        vertical-align: middle;\n",
       "    }\n",
       "\n",
       "    .dataframe tbody tr th {\n",
       "        vertical-align: top;\n",
       "    }\n",
       "\n",
       "    .dataframe thead th {\n",
       "        text-align: right;\n",
       "    }\n",
       "</style>\n",
       "<table border=\"1\" class=\"dataframe\">\n",
       "  <thead>\n",
       "    <tr style=\"text-align: right;\">\n",
       "      <th></th>\n",
       "      <th>group_id</th>\n",
       "      <th>name</th>\n",
       "      <th>category_id</th>\n",
       "      <th>city_id</th>\n",
       "    </tr>\n",
       "  </thead>\n",
       "  <tbody>\n",
       "    <tr>\n",
       "      <th>0</th>\n",
       "      <td>6388</td>\n",
       "      <td>Alternative Health NYC</td>\n",
       "      <td>14</td>\n",
       "      <td>10001</td>\n",
       "    </tr>\n",
       "    <tr>\n",
       "      <th>1</th>\n",
       "      <td>6510</td>\n",
       "      <td>Alternative Energy Meetup</td>\n",
       "      <td>4</td>\n",
       "      <td>10001</td>\n",
       "    </tr>\n",
       "    <tr>\n",
       "      <th>2</th>\n",
       "      <td>8458</td>\n",
       "      <td>NYC Animal Rights</td>\n",
       "      <td>26</td>\n",
       "      <td>10001</td>\n",
       "    </tr>\n",
       "  </tbody>\n",
       "</table>\n",
       "</div>"
      ],
      "text/plain": [
       "   group_id                       name  category_id  city_id\n",
       "0      6388     Alternative Health NYC           14    10001\n",
       "1      6510  Alternative Energy Meetup            4    10001\n",
       "2      8458          NYC Animal Rights           26    10001"
      ]
     },
     "execution_count": 131,
     "metadata": {},
     "output_type": "execute_result"
    }
   ],
   "source": [
    "groups.head(3)"
   ]
  },
  {
   "cell_type": "code",
   "execution_count": 133,
   "metadata": {},
   "outputs": [
    {
     "data": {
      "text/html": [
       "<div>\n",
       "<style scoped>\n",
       "    .dataframe tbody tr th:only-of-type {\n",
       "        vertical-align: middle;\n",
       "    }\n",
       "\n",
       "    .dataframe tbody tr th {\n",
       "        vertical-align: top;\n",
       "    }\n",
       "\n",
       "    .dataframe thead th {\n",
       "        text-align: right;\n",
       "    }\n",
       "</style>\n",
       "<table border=\"1\" class=\"dataframe\">\n",
       "  <thead>\n",
       "    <tr style=\"text-align: right;\">\n",
       "      <th></th>\n",
       "      <th>category_id</th>\n",
       "      <th>category_name</th>\n",
       "    </tr>\n",
       "  </thead>\n",
       "  <tbody>\n",
       "    <tr>\n",
       "      <th>0</th>\n",
       "      <td>1</td>\n",
       "      <td>Arts &amp; Culture</td>\n",
       "    </tr>\n",
       "    <tr>\n",
       "      <th>1</th>\n",
       "      <td>3</td>\n",
       "      <td>Cars &amp; Motorcycles</td>\n",
       "    </tr>\n",
       "    <tr>\n",
       "      <th>2</th>\n",
       "      <td>4</td>\n",
       "      <td>Community &amp; Environment</td>\n",
       "    </tr>\n",
       "  </tbody>\n",
       "</table>\n",
       "</div>"
      ],
      "text/plain": [
       "   category_id            category_name\n",
       "0            1           Arts & Culture\n",
       "1            3       Cars & Motorcycles\n",
       "2            4  Community & Environment"
      ]
     },
     "execution_count": 133,
     "metadata": {},
     "output_type": "execute_result"
    }
   ],
   "source": [
    "categories.head(3)"
   ]
  },
  {
   "cell_type": "code",
   "execution_count": 134,
   "metadata": {},
   "outputs": [
    {
     "data": {
      "text/html": [
       "<div>\n",
       "<style scoped>\n",
       "    .dataframe tbody tr th:only-of-type {\n",
       "        vertical-align: middle;\n",
       "    }\n",
       "\n",
       "    .dataframe tbody tr th {\n",
       "        vertical-align: top;\n",
       "    }\n",
       "\n",
       "    .dataframe thead th {\n",
       "        text-align: right;\n",
       "    }\n",
       "</style>\n",
       "<table border=\"1\" class=\"dataframe\">\n",
       "  <thead>\n",
       "    <tr style=\"text-align: right;\">\n",
       "      <th></th>\n",
       "      <th>group_id</th>\n",
       "      <th>name</th>\n",
       "      <th>category_id</th>\n",
       "      <th>city_id</th>\n",
       "      <th>category_name</th>\n",
       "    </tr>\n",
       "  </thead>\n",
       "  <tbody>\n",
       "    <tr>\n",
       "      <th>0</th>\n",
       "      <td>6388</td>\n",
       "      <td>Alternative Health NYC</td>\n",
       "      <td>14</td>\n",
       "      <td>10001</td>\n",
       "      <td>Health &amp; Wellbeing</td>\n",
       "    </tr>\n",
       "    <tr>\n",
       "      <th>1</th>\n",
       "      <td>6510</td>\n",
       "      <td>Alternative Energy Meetup</td>\n",
       "      <td>4</td>\n",
       "      <td>10001</td>\n",
       "      <td>Community &amp; Environment</td>\n",
       "    </tr>\n",
       "    <tr>\n",
       "      <th>2</th>\n",
       "      <td>8458</td>\n",
       "      <td>NYC Animal Rights</td>\n",
       "      <td>26</td>\n",
       "      <td>10001</td>\n",
       "      <td>NaN</td>\n",
       "    </tr>\n",
       "    <tr>\n",
       "      <th>3</th>\n",
       "      <td>8940</td>\n",
       "      <td>The New York City Anime Group</td>\n",
       "      <td>29</td>\n",
       "      <td>10001</td>\n",
       "      <td>Sci-Fi &amp; Fantasy</td>\n",
       "    </tr>\n",
       "    <tr>\n",
       "      <th>4</th>\n",
       "      <td>10104</td>\n",
       "      <td>NYC Pit Bull Group</td>\n",
       "      <td>26</td>\n",
       "      <td>10001</td>\n",
       "      <td>NaN</td>\n",
       "    </tr>\n",
       "  </tbody>\n",
       "</table>\n",
       "</div>"
      ],
      "text/plain": [
       "   group_id                           name  category_id  city_id  \\\n",
       "0      6388         Alternative Health NYC           14    10001   \n",
       "1      6510      Alternative Energy Meetup            4    10001   \n",
       "2      8458              NYC Animal Rights           26    10001   \n",
       "3      8940  The New York City Anime Group           29    10001   \n",
       "4     10104             NYC Pit Bull Group           26    10001   \n",
       "\n",
       "             category_name  \n",
       "0       Health & Wellbeing  \n",
       "1  Community & Environment  \n",
       "2                      NaN  \n",
       "3         Sci-Fi & Fantasy  \n",
       "4                      NaN  "
      ]
     },
     "execution_count": 134,
     "metadata": {},
     "output_type": "execute_result"
    }
   ],
   "source": [
    "#Left Join\n",
    "groups.merge(categories, how = \"left\", on = \"category_id\").head()"
   ]
  },
  {
   "cell_type": "code",
   "execution_count": null,
   "metadata": {},
   "outputs": [],
   "source": [
    "#Inner Join\n",
    "groups.merge(categories, how = \"inner\", on = \"category_id\")\n"
   ]
  },
  {
   "cell_type": "code",
   "execution_count": null,
   "metadata": {},
   "outputs": [],
   "source": [
    "#Outer Join\n",
    "groups.merge(\n",
    "    cities, how = \"outer\", left_on = \"city_id\", right_on = \"id\"\n",
    ")"
   ]
  }
 ],
 "metadata": {
  "kernelspec": {
   "display_name": "Python 3",
   "language": "python",
   "name": "python3"
  },
  "language_info": {
   "codemirror_mode": {
    "name": "ipython",
    "version": 3
   },
   "file_extension": ".py",
   "mimetype": "text/x-python",
   "name": "python",
   "nbconvert_exporter": "python",
   "pygments_lexer": "ipython3",
   "version": "3.10.11"
  }
 },
 "nbformat": 4,
 "nbformat_minor": 2
}
